{
 "cells": [
  {
   "cell_type": "markdown",
   "metadata": {},
   "source": [
    "<img src=\"https://www.cems.uwe.ac.uk/~pa-legg/uwecyber/images/uwe.png\" width=300>\n",
    "<img src=\"https://www.cems.uwe.ac.uk/~pa-legg/uwecyber/images/uwecyber_acecse_200.jpg\" width=300>\n",
    "\n",
    "# UFCFEL-15-3 Security Data Analytics and Visualisation\n",
    "# Portfolio Task 2: Malware Analysis (2021)\n",
    "---\n",
    "\n",
    "The completion of this worksheet is worth **20%** towards your portfolio assignment for the UFCFEL-15-3 Security Data Analytics and Visualisation (SDAV) module.\n",
    "\n",
    "### Task\n",
    "---\n",
    "\n",
    "In this task, you have been given a set of data collected from 150 machines that are infected with different strands of malware. You need to develop your own classifier that is capable of classifying a new data observation as one of the three malware variants, based on the data observations provided. The data has been pre-processed so that you can train your classifier on 120 samples of data. 30 data samples are then to be used to test the performance of the classifier, to be able to report on the accuracy of your classifier. You should make use of visualisation to illustrate how your classifier is informed by your training data, and you should be able to show how the testing data compares against your classifier model. You will need to describe the analytical process you have taken using Markdown, and you will need to report your overall final accuracy for the classifier.\n",
    "\n",
    "### Assessment and Marking\n",
    "---\n",
    "\n",
    "| Criteria | 0-39 | 40-49 | 50-59 | 60-69 | 70-84 | 85-100 |\n",
    "| --- | --- | --- | --- | --- | --- | --- |\n",
    "| **Developing a suitable means to define each training data cluster centroid (20%)** | No evidence of progress | A limited attempt to address this criteria | A working solution but perhaps not optimal | Good approach to the problem | Very good approach to the problem | Excellent approach to the problem |\n",
    "| **Developing a suitable means to classify test data into their respective groups and calculate classifier accuracy (40%)**  | No evidence of progress | A limited attempt to address this criteria |  A working solution but perhaps not optimal | Good approach to the problem | Very good approach to the problem | Excellent approach to the problem |\n",
    "| **Visualisation of cluster centroids and of group membership for test data (20%)**  | No evidence of progress | A limited attempt to address this criteria |  A working solution but perhaps not optimal | Good approach to the problem | Very good approach to the problem | Excellent approach to the problem |\n",
    "| **Supporting commentary as documented using Markdown (20%)**  | No evidence of progress | A limited attempt to address this criteria | Some evidence of markdown commentary | Good approach to the problem | Very good approach to the problem | Excellent approach to the problem |\n",
    "\n",
    "You will need to implement your final solution in the Notebook format, with Markdown annotation -  you should use this notebook file as a template for your submission. You are also expected to complete the assignment self-assessment.\n",
    "\n",
    "Your submission should include:\n",
    "- HTML export of your complete assignment in notebook format.\n",
    "- Original ipynb source file of your notebook.\n",
    "\n",
    "\n",
    "\n",
    "### Contact\n",
    "---\n",
    "\n",
    "Questions about this assignment should be directed to your module leader (Phil.Legg@uwe.ac.uk). You can use the Blackboard Q&A feature to ask questions related to this module and this assignment, as well as the on-site teaching sessions.\n",
    "\n",
    "---"
   ]
  },
  {
   "cell_type": "code",
   "execution_count": 1,
   "metadata": {},
   "outputs": [],
   "source": [
    "### Here are the imports that you will require\n",
    "import numpy as np\n",
    "import pandas as pd\n",
    "import matplotlib.pyplot as plt\n",
    "from sklearn.decomposition import PCA\n",
    "import seaborn as sns\n",
    "from sklearn.utils import shuffle\n",
    "from math import *\n",
    "def load_data():\n",
    "    # the data is a standard pcap packet capture file (saved as a csv output)\n",
    "    file_name = './T2_data/T2_data.csv'\n",
    "    data = pd.read_csv(file_name, names=['cpu', 'mem', 'net', 'io', 'state'], index_col=False)\n",
    "    pca = PCA(n_components=2)\n",
    "    out = pca.fit_transform(data[['cpu', 'mem', 'net','io']])\n",
    "    df = pd.DataFrame(out, columns=['pca1', 'pca2'])\n",
    "    df['state'] = data['state']\n",
    "    train_data = df[:120]\n",
    "    test_data = df[120:]\n",
    "    test_labels = test_data['state']\n",
    "    test_data = test_data.drop(columns='state')\n",
    "    malware = train_data['state'].unique()\n",
    "    return train_data, test_data, test_labels, malware\n",
    "\n",
    "# Here are the training and testing datasets\n",
    "# split into the input data and the output labels\n",
    "train_data, test_data, test_labels, malware = load_data()\n",
    "#malware = train_data['state'].unique()~"
   ]
  },
  {
   "cell_type": "code",
   "execution_count": 2,
   "metadata": {},
   "outputs": [
    {
     "name": "stdout",
     "output_type": "stream",
     "text": [
      "Malware class titles: ['NetCryptoJaCker' 'nixDestr00x0yer' 'Andr0idM0nkey']\n"
     ]
    }
   ],
   "source": [
    "### Have a look at what the pre-loaded variables contain: train_data, test_data, test_labels, malware\n",
    "print (\"Malware class titles:\", malware)"
   ]
  },
  {
   "cell_type": "markdown",
   "metadata": {},
   "source": [
    "## Creating the Centroids"
   ]
  },
  {
   "cell_type": "code",
   "execution_count": 3,
   "metadata": {},
   "outputs": [],
   "source": [
    "set1 = train_data[ train_data['state']==malware[0]]\n",
    "set2 = train_data[train_data['state']==malware[1]]\n",
    "set3 = train_data[train_data['state']==malware[2]]\n",
    "\n",
    "centroid1=[np.mean(set1['pca1']),np.mean(set1['pca2'])]\n",
    "centroid2=[np.mean(set2['pca1']),np.mean(set2['pca2'])]                                  \n",
    "centroid3=[np.mean(set3['pca1']),np.mean(set3['pca2'])]"
   ]
  },
  {
   "cell_type": "markdown",
   "metadata": {},
   "source": [
    "The first section splits the training data set into groups based upon the given malware name. \n",
    "Utilising numpy's mean function against each of the data sets allowed for the centroids to be calculated. These centroids will then be used within the test data to classify new data points."
   ]
  },
  {
   "cell_type": "code",
   "execution_count": 4,
   "metadata": {},
   "outputs": [
    {
     "data": {
      "image/png": "[encoded data removed]",
      "text/plain": [
       "<Figure size 432x288 with 1 Axes>"
      ]
     },
     "metadata": {
      "needs_background": "light"
     },
     "output_type": "display_data"
    }
   ],
   "source": [
    "plt.scatter(set1['pca1'], set1['pca2'], alpha=0.4)\n",
    "plt.scatter(centroid1[0],centroid1[1],marker='x',color='b',s=60)\n",
    "plt.scatter(set2['pca1'], set2['pca2'], alpha=0.4)\n",
    "plt.scatter(centroid2[0],centroid2[1],marker='x',color='r',s=60)\n",
    "plt.scatter(set3['pca1'], set3['pca2'], alpha=0.4)\n",
    "plt.scatter(centroid3[0],centroid3[1],marker='x',color='g',s=60)\n",
    "plt.show()"
   ]
  },
  {
   "cell_type": "markdown",
   "metadata": {},
   "source": [
    "The three data sets along with the three centroids have then been plotted to assure accurate centroid location. "
   ]
  },
  {
   "cell_type": "markdown",
   "metadata": {},
   "source": [
    "## Data Processing\n",
    "The test data needs to be classified into the various clusters so that they can then be represented on a graph."
   ]
  },
  {
   "cell_type": "code",
   "execution_count": 5,
   "metadata": {
    "scrolled": false
   },
   "outputs": [],
   "source": [
    "i=0\n",
    "leftset=[]\n",
    "rightset=[]\n",
    "midset=[]\n",
    "\n",
    "while i < int(test_data.shape[0]):\n",
    "    left = sqrt(((centroid1[0] -test_data.iloc[i]['pca1'])**2)+((centroid1[1] -test_data.iloc[i]['pca2'])**2))\n",
    "    mid = sqrt(((centroid2[0] -test_data.iloc[i]['pca1'])**2)+((centroid2[1] -test_data.iloc[i]['pca2'])**2))\n",
    "    right = sqrt(((centroid3[0] -test_data.iloc[i]['pca1'])**2)+((centroid3[1] -test_data.iloc[i]['pca2'])**2))\n",
    "    if left < mid:\n",
    "        leftset.append(test_data.iloc[i])\n",
    "    elif right < mid:\n",
    "        rightset.append(test_data.iloc[i])\n",
    "    else:\n",
    "        midset.append(test_data.iloc[i])\n",
    "    i +=1\n",
    "    \n",
    "leftDf = pd.DataFrame(leftset)\n",
    "rightDf = pd.DataFrame(rightset)\n",
    "midDf = pd.DataFrame(midset)"
   ]
  },
  {
   "cell_type": "markdown",
   "metadata": {},
   "source": [
    "To begin with the entire data set needs to be iterated through; for each data value, the distance to each centroid needs to be calculated. This is done through pythagorean theorem, by taking the x and y points for both the centroid and new data point, the x and y distance can be calculated. With these sides, the final distance can be calculated and evaluated to understand which cluster the node belongs to. \n",
    "Once the cluster has been identified, the node is then added into a corresponding array, from which a dataframe is initialised.\n"
   ]
  },
  {
   "cell_type": "code",
   "execution_count": 6,
   "metadata": {},
   "outputs": [
    {
     "data": {
      "image/png": "[encoded data removed]",
      "text/plain": [
       "<Figure size 432x288 with 1 Axes>"
      ]
     },
     "metadata": {
      "needs_background": "light"
     },
     "output_type": "display_data"
    }
   ],
   "source": [
    "plt.scatter(rightDf['pca1'], rightDf['pca2'],color ='g')\n",
    "plt.scatter(centroid1[0],centroid1[1],marker='x',color='b',s=50)\n",
    "#plt.scatter(leftDf['pca1'], leftDf['pca2'])\n",
    "plt.scatter(centroid2[0],centroid2[1],marker='x',color='r',s=50)\n",
    "plt.scatter(midDf['pca1'], midDf['pca2'], color = '#eb9834')\n",
    "plt.scatter(centroid3[0],centroid3[1],marker='x',color='g',s=50)\n",
    "plt.show()"
   ]
  },
  {
   "cell_type": "markdown",
   "metadata": {},
   "source": [
    "The three new dataframes are then plotted along with the inital centroids. As the graph shows, there are no data points within the test data that fall within the left side cluster. This could be due to an outdated training set, especially in malware which is a constantly moving field, this would then show a bias within the data that is being represented."
   ]
  },
  {
   "cell_type": "markdown",
   "metadata": {},
   "source": [
    "### Self-Assessment\n",
    "---\n",
    "\n",
    "For each criteria, please reflect on the marking rubric and indicate what grade you would expect to receive for the work that you are submitting. For your own personal development and learning, it is important to reflect on your work and to attempt to assess this careful. Do think carefully about both positive aspects of your work, as well as any limitations you may have faced.\n",
    "\n",
    "- **Developing a suitable means to define each training data cluster centroid (20%)**: You estimate that your grade will be 100.\n",
    "\n",
    "- **Developing a suitable means to classify test data into their respective groups and calculate classifier accuracy (40%)**  : You estimate that your grade will be 100.\n",
    "\n",
    "- **Visualisation of cluster centroids and of group membership for test data (20%)**: You estimate that your grade will be 100.\n",
    "\n",
    "- **Supporting commentary as documented using Markdown (20%)**: You estimate that your grade will be 100.\n",
    "\n",
    "Please provide a minimum of two sentences to comment and reflect on your own self-assessment: I believe that I have accurately understood and completed the task specification. This was an interesting insight into how to analyse data and I believe it will be useful for the remaining coursework and potential future scenarios.\n"
   ]
  }
 ],
 "metadata": {
  "kernelspec": {
   "display_name": "Python 3 (ipykernel)",
   "language": "python",
   "name": "python3"
  },
  "language_info": {
   "codemirror_mode": {
    "name": "ipython",
    "version": 3
   },
   "file_extension": ".py",
   "mimetype": "text/x-python",
   "name": "python",
   "nbconvert_exporter": "python",
   "pygments_lexer": "ipython3",
   "version": "3.8.10"
  },
  "widgets": {
   "state": {},
   "version": "1.1.2"
  }
 },
 "nbformat": 4,
 "nbformat_minor": 4
}
